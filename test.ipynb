{
 "cells": [
  {
   "cell_type": "code",
   "execution_count": 5,
   "metadata": {},
   "outputs": [],
   "source": [
    "import csv\n",
    "import json\n",
    "import sys\n",
    "from subprocess import call\n",
    "import ast\n",
    "import os\n",
    "import pandas as pd"
   ]
  },
  {
   "cell_type": "code",
   "execution_count": 3,
   "metadata": {},
   "outputs": [],
   "source": [
    "#call(\"pwd\")\n",
    "#os.chdir('./raphtory-mastodon/mastodon')\n",
    "#for chunck_df in pd.read_csv('znark.us.csv', chunksize=1000):\n",
    "    # each chunck_df contains a part of the whole CSV\n",
    "    #chunck_df"
   ]
  },
  {
   "cell_type": "markdown",
   "metadata": {},
   "source": [
    "### Trying first to parse one of the files as a dataframe. First processing mentions"
   ]
  },
  {
   "cell_type": "code",
   "execution_count": 23,
   "metadata": {
    "scrolled": false
   },
   "outputs": [
    {
     "name": "stdout",
     "output_type": "stream",
     "text": [
      "\n"
     ]
    },
    {
     "name": "stderr",
     "output_type": "stream",
     "text": [
      "/var/folders/y4/f611f3kx78q82jwkcq8psnnm0000gn/T/ipykernel_12367/983550832.py:21: SettingWithCopyWarning: \n",
      "A value is trying to be set on a copy of a slice from a DataFrame\n",
      "\n",
      "See the caveats in the documentation: https://pandas.pydata.org/pandas-docs/stable/user_guide/indexing.html#returning-a-view-versus-a-copy\n",
      "  dm['mentions'].iloc[i] = j[i]\n",
      "/var/folders/y4/f611f3kx78q82jwkcq8psnnm0000gn/T/ipykernel_12367/983550832.py:35: SettingWithCopyWarning: \n",
      "A value is trying to be set on a copy of a slice from a DataFrame\n",
      "\n",
      "See the caveats in the documentation: https://pandas.pydata.org/pandas-docs/stable/user_guide/indexing.html#returning-a-view-versus-a-copy\n",
      "  dm['account.acct'].iloc[i] = j[i]\n",
      "/var/folders/y4/f611f3kx78q82jwkcq8psnnm0000gn/T/ipykernel_12367/983550832.py:21: SettingWithCopyWarning: \n",
      "A value is trying to be set on a copy of a slice from a DataFrame\n",
      "\n",
      "See the caveats in the documentation: https://pandas.pydata.org/pandas-docs/stable/user_guide/indexing.html#returning-a-view-versus-a-copy\n",
      "  dm['mentions'].iloc[i] = j[i]\n",
      "/var/folders/y4/f611f3kx78q82jwkcq8psnnm0000gn/T/ipykernel_12367/983550832.py:35: SettingWithCopyWarning: \n",
      "A value is trying to be set on a copy of a slice from a DataFrame\n",
      "\n",
      "See the caveats in the documentation: https://pandas.pydata.org/pandas-docs/stable/user_guide/indexing.html#returning-a-view-versus-a-copy\n",
      "  dm['account.acct'].iloc[i] = j[i]\n"
     ]
    }
   ],
   "source": [
    "\n",
    "os.system('ls > lista.txt')\n",
    "os.system('mkdir grafo')\n",
    "os.system('mkdir analizar')\n",
    "l = open('lista.txt', 'r')\n",
    "a = []\n",
    "for row in l:\n",
    "    if (\"lista\" in row):\n",
    "        print(\"\")\n",
    "    else:\n",
    "        a.append(row.replace(\"\\n\", \"\"))\n",
    "\n",
    "l.close()\n",
    "\n",
    "for nombre in a:\n",
    "    df = pd.read_csv(str(nombre))\n",
    "    dm = df[df.mentions != '[]' ]\n",
    "    i = 0\n",
    "    j= []\n",
    "    while(i<len(dm['mentions'])):\n",
    "        j.append(ast.literal_eval(dm['mentions'].iloc[i]))\n",
    "        dm['mentions'].iloc[i] = j[i]\n",
    "        i = i + 1\n",
    "    men = dm['mentions']\n",
    "    date = dm['created_at']\n",
    "    user = dm['account.acct']\n",
    "    us = dm['account.username']\n",
    "\n",
    "    #Cambiamos el apartado acct por el servidor del usuario que menciona\n",
    "    i = 0\n",
    "    j= []\n",
    "    while(i<len(user)):\n",
    "        g = str(dm['account.acct'].iloc[i])\n",
    "        u = str(dm['account.username'].iloc[i])\n",
    "        j.append(g.replace(u+\"@\", \"\"))\n",
    "        dm['account.acct'].iloc[i] = j[i]\n",
    "        i = i + 1\n",
    "    \n",
    "    #Ponemos los servidores en mentions\n",
    "    i = 0\n",
    "    j= []\n",
    "    while(i<len(user)):\n",
    "        g = str(dm['mentions'].iloc[i][0]['acct'])\n",
    "        u = str(dm['mentions'].iloc[i][0]['username'])\n",
    "        dm['mentions'].iloc[i][0]['acct'] = g.replace(u + \"@\", \"\")\n",
    "        i = i + 1\n",
    "        \n",
    "    res = pd.DataFrame()\n",
    "    res['Date'] = dm['created_at']\n",
    "    res['UserId'] = dm['account.id']\n",
    "    res['ServerUser'] = dm['account.acct']\n",
    "    l = 0\n",
    "    f = 0\n",
    "    while(l<len(dm['mentions'])):\n",
    "        if(len(dm['mentions'].iloc[l])>f):\n",
    "            f = len(dm['mentions'].iloc[l])\n",
    "        l = l + 1\n",
    "    h = 0\n",
    "    j = 0\n",
    "    p = f\n",
    "    m = []\n",
    "    n = []\n",
    "    while(j<p):\n",
    "        while(h<len(men)):\n",
    "            l1 = len(dm['mentions'].iloc[h])\n",
    "            if(l1>j):\n",
    "                m.append(dm['mentions'].iloc[h][j]['id'])\n",
    "                n.append(dm['mentions'].iloc[h][j]['acct'])\n",
    "            else:\n",
    "                m.append(-1)\n",
    "                n.append(-1)\n",
    "            h = h + 1\n",
    "        g = 'UserMentioned' + str(j)\n",
    "        i = 'ServerMentioned' + str(j)\n",
    "        h = 0\n",
    "        res[g] = m\n",
    "        res[i] = n\n",
    "        m = []\n",
    "        n = []\n",
    "        j = j + 1  \n",
    "    res.to_csv('./analizar/'+str(nombre))\n",
    "    #Hacemos los archivos para la carpeta grafo\n",
    "    enlace = pd.DataFrame()\n",
    "    nodo = pd.DataFrame()\n",
    "    y = []\n",
    "    w = []\n",
    "    z = 0\n",
    "    t = 0\n",
    "    while(z<p):\n",
    "        s = 'ServerMentioned' + str(z)\n",
    "        while(t<len(res[s])):\n",
    "            if (res[s].iloc[t] != -1):\n",
    "                w.append(res['ServerUser'])\n",
    "                y.append(res[s])\n",
    "            t = t + 1\n",
    "        z = z + 1\n",
    "    enlace['source'] = pd.concat(w, axis= 0)\n",
    "    enlace['target'] = pd.concat(y, axis= 0)\n",
    "\n",
    "    servidores = enlace['source'].unique()\n",
    "    servidoress = enlace['target'].unique()\n",
    "    servidores = servidores.tolist()\n",
    "    num = []\n",
    "    serv = []\n",
    "    for t in servidoress:\n",
    "        if not t in servidores:\n",
    "            servidores.append(t)\n",
    "    y = 0\n",
    "    while(y<len(servidores)):\n",
    "        num.append(y)\n",
    "        serv.append(servidores[y])\n",
    "        y = y + 1\n",
    "    nodo['Id'] = num\n",
    "    nodo['Label'] = serv\n",
    "    enlace.to_csv('./grafo/enlace'+str(nombre))\n",
    "    nodo.to_csv('./grafo/nodo'+str(nombre))"
   ]
  },
  {
   "cell_type": "code",
   "execution_count": 20,
   "metadata": {},
   "outputs": [],
   "source": []
  },
  {
   "cell_type": "code",
   "execution_count": 22,
   "metadata": {},
   "outputs": [],
   "source": []
  },
  {
   "cell_type": "code",
   "execution_count": null,
   "metadata": {},
   "outputs": [],
   "source": []
  }
 ],
 "metadata": {
  "interpreter": {
   "hash": "e7370f93d1d0cde622a1f8e1c04877d8463912d04d973331ad4851f04de6915a"
  },
  "kernelspec": {
   "display_name": "Python 3 (ipykernel)",
   "language": "python",
   "name": "python3"
  },
  "language_info": {
   "codemirror_mode": {
    "name": "ipython",
    "version": 3
   },
   "file_extension": ".py",
   "mimetype": "text/x-python",
   "name": "python",
   "nbconvert_exporter": "python",
   "pygments_lexer": "ipython3",
   "version": "3.9.10"
  }
 },
 "nbformat": 4,
 "nbformat_minor": 2
}
